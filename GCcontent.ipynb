{
 "cells": [
  {
   "cell_type": "markdown",
   "metadata": {},
   "source": [
    "# Analyzing GC content in DNA sequences using Python"
   ]
  },
  {
   "cell_type": "markdown",
   "metadata": {},
   "source": [
    "#### GC content, the percentage of guanines and cytosines in a DNA molecule, is one of the most important features of the genome. By performing an analysis based on the programming language Python we are able to calculate the GC content of any DNA sequence."
   ]
  },
  {
   "cell_type": "markdown",
   "metadata": {},
   "source": [
    "  •\tA GC base pair consists of three hydrogen bonds, while an AT pair has only two. Owing to this, GC base pairs acquire higher stability, and a higher temperature is required to break the bonds. A high GC content therefore implies a high melting temperature of DNA, and thus demonstrates that GC content has a high influence on the stability of a DNA molecule.\n",
    "\n",
    "  • A high variability in GC content (25% to 75%) is often observed among prokaryotes, and is therefore useful in phylogenetic analysis. In particular, thermophilic bacteria tend to have a higher GC content, possibly as an adaption against DNA denaturation under high temperatures.  \n",
    "\n",
    "  •\tAs GC content affects the annealing temperatures in a PCR experiment, high GC content leads to complications with primer design.\n",
    "\n",
    "  •\tHigh GC content corresponds to gene rich regions. Correlations have also been noticed between GC content and length of coding genes. The longest genes in prokaryotes and longest exons in eukaryotes are often GC rich. Thus, GC percentage is useful for gene finding.\n",
    "\n",
    "  •\tAnother important implication of GC content is the CpG islands, which are regions that contain high frequency of CpG dinucleotides (a phosphate linking the two nucleotides). The CpG islands are useful markers of DNA methylation sites, which in turn is implicated in the transcriptional regulation of genes."
   ]
  },
  {
   "cell_type": "markdown",
   "metadata": {},
   "source": [
    "#### In this exercise we will start by calculating the GC content of a given DNA sequence, and then proceed to calculation of GC content of multiple sequences from a fasta file."
   ]
  },
  {
   "cell_type": "code",
   "execution_count": 3,
   "metadata": {
    "collapsed": false
   },
   "outputs": [],
   "source": [
    "sequence = \"ATGCTAGCATACGTACGATCGATCGACTGCATGCTGCATCGATCGTACGTAGCTAGCTACGTACG\"  "
   ]
  },
  {
   "cell_type": "markdown",
   "metadata": {},
   "source": [
    "###### Calculate length of the input sequence"
   ]
  },
  {
   "cell_type": "markdown",
   "metadata": {},
   "source": [
    "To calculate the GC content of this sequence, we need \n",
    "    - The number of G's and C's in the sequence \n",
    "    - Total length of the sequence\n",
    "\n",
    "`GC percentage = 100 * (G+C)/ (A+T+G+C)`\n",
    "\n",
    "The length (A+T+G+C) is calculated with the `len` function:"
   ]
  },
  {
   "cell_type": "code",
   "execution_count": 4,
   "metadata": {
    "collapsed": false
   },
   "outputs": [
    {
     "data": {
      "text/plain": [
       "65"
      ]
     },
     "execution_count": 4,
     "metadata": {},
     "output_type": "execute_result"
    }
   ],
   "source": [
    "len(sequence)"
   ]
  },
  {
   "cell_type": "markdown",
   "metadata": {},
   "source": [
    "###### Count number of G's and C's"
   ]
  },
  {
   "cell_type": "markdown",
   "metadata": {},
   "source": [
    "To calculate the number of G's and C's, we use the method `count`\n",
    "\n",
    "[NOTE: `len()`is a stand-alone built-in function that returns the number of characters in the given string. `.count` is a method, essentially a function bound to an object (here \"sequence\")]"
   ]
  },
  {
   "cell_type": "code",
   "execution_count": 4,
   "metadata": {
    "collapsed": false
   },
   "outputs": [
    {
     "data": {
      "text/plain": [
       "17"
      ]
     },
     "execution_count": 4,
     "metadata": {},
     "output_type": "execute_result"
    }
   ],
   "source": [
    "sequence.count(\"C\")"
   ]
  },
  {
   "cell_type": "code",
   "execution_count": 5,
   "metadata": {
    "collapsed": false
   },
   "outputs": [
    {
     "data": {
      "text/plain": [
       "16"
      ]
     },
     "execution_count": 5,
     "metadata": {},
     "output_type": "execute_result"
    }
   ],
   "source": [
    "sequence.count(\"G\")"
   ]
  },
  {
   "cell_type": "markdown",
   "metadata": {},
   "source": [
    "###### Sum of G's and C's"
   ]
  },
  {
   "cell_type": "code",
   "execution_count": 6,
   "metadata": {
    "collapsed": false
   },
   "outputs": [
    {
     "data": {
      "text/plain": [
       "33"
      ]
     },
     "execution_count": 6,
     "metadata": {},
     "output_type": "execute_result"
    }
   ],
   "source": [
    "sequence.count(\"C\")+sequence.count(\"G\")"
   ]
  },
  {
   "cell_type": "markdown",
   "metadata": {},
   "source": [
    "###### Calculate GC percentage"
   ]
  },
  {
   "cell_type": "markdown",
   "metadata": {},
   "source": [
    "`GC percentage = 100* (G+C)/ (A+T+G+C)`"
   ]
  },
  {
   "cell_type": "code",
   "execution_count": 7,
   "metadata": {
    "collapsed": false
   },
   "outputs": [
    {
     "data": {
      "text/plain": [
       "50.76923076923077"
      ]
     },
     "execution_count": 7,
     "metadata": {},
     "output_type": "execute_result"
    }
   ],
   "source": [
    "100*(sequence.count(\"C\")+sequence.count(\"G\"))/float(len(sequence))"
   ]
  },
  {
   "cell_type": "markdown",
   "metadata": {},
   "source": [
    "###### Rounding off the value"
   ]
  },
  {
   "cell_type": "markdown",
   "metadata": {},
   "source": [
    "Use `round()` function on the value. The last integer determine the number of decimals."
   ]
  },
  {
   "cell_type": "code",
   "execution_count": 19,
   "metadata": {
    "collapsed": false
   },
   "outputs": [
    {
     "data": {
      "text/plain": [
       "50.77"
      ]
     },
     "execution_count": 19,
     "metadata": {},
     "output_type": "execute_result"
    }
   ],
   "source": [
    "round((100*(sequence.count(\"C\")+sequence.count(\"G\"))/float(len(sequence))),2)"
   ]
  },
  {
   "cell_type": "markdown",
   "metadata": {},
   "source": [
    "## Working with functions "
   ]
  },
  {
   "cell_type": "markdown",
   "metadata": {},
   "source": [
    "#### Write a function that calculates GC content"
   ]
  },
  {
   "cell_type": "code",
   "execution_count": 8,
   "metadata": {
    "collapsed": false
   },
   "outputs": [
    {
     "name": "stdout",
     "output_type": "stream",
     "text": [
      "\n"
     ]
    }
   ],
   "source": [
    "def GC_content(s): #defining function\n",
    "    s = s.upper()\n",
    "    gc= (s.count(\"G\")+s.count(\"C\"))/float(len(s))*100\n",
    "    gc=round(gc,2)\n",
    "    return gc"
   ]
  },
  {
   "cell_type": "code",
   "execution_count": 9,
   "metadata": {
    "collapsed": false
   },
   "outputs": [
    {
     "data": {
      "text/plain": [
       "50.77"
      ]
     },
     "execution_count": 9,
     "metadata": {},
     "output_type": "execute_result"
    }
   ],
   "source": [
    "# Using the function\n",
    "GC_content(\"ATGCTAGCATACGTACGATCGATCGACTGCATGCTGCATCGATCGTACGTAGCTAGCTACGTACG\")"
   ]
  },
  {
   "cell_type": "markdown",
   "metadata": {},
   "source": [
    "## Working with files"
   ]
  },
  {
   "cell_type": "markdown",
   "metadata": {},
   "source": [
    "#### Read a fasta file and print the content"
   ]
  },
  {
   "cell_type": "markdown",
   "metadata": {},
   "source": [
    "\n",
    "[NOTE: Fasta format refers to a commonly used text-based format for specifying sequence information. Each sequence has a description line that starts with '>' and is followed by one or more lines of sequences.\n",
    "Example:\n",
    "\n",
    "`>seq1\n",
    "ATGTCA `\n"
   ]
  },
  {
   "cell_type": "code",
   "execution_count": 10,
   "metadata": {
    "collapsed": false
   },
   "outputs": [
    {
     "name": "stdout",
     "output_type": "stream",
     "text": [
      ">seq1\n",
      "ATGCTAGCATACGTACGATCGATCGACTGCATGCTGCATCGATCGTACGTAGCTAGCTACGTACG\n"
     ]
    }
   ],
   "source": [
    "# opening the file\n",
    "my_file = open(\"input.fasta\")\n",
    "# reading the contents of the file\n",
    "seq = my_file.read()\n",
    "print seq"
   ]
  },
  {
   "cell_type": "markdown",
   "metadata": {},
   "source": [
    "### Calculate GC content of the sequences in a fasta file"
   ]
  },
  {
   "cell_type": "markdown",
   "metadata": {},
   "source": [
    "#### Read in a fasta file (with one sequence) and calculate the GC content"
   ]
  },
  {
   "cell_type": "code",
   "execution_count": 11,
   "metadata": {
    "collapsed": false
   },
   "outputs": [
    {
     "data": {
      "text/plain": [
       "50.77"
      ]
     },
     "execution_count": 11,
     "metadata": {},
     "output_type": "execute_result"
    }
   ],
   "source": [
    "my_file = open(\"input.fasta\")\n",
    "#read the first line(fasta header)\n",
    "header=my_file.readline()\n",
    "#rest is the sequence\n",
    "seq = my_file.read()\n",
    "# Use GC_content function\n",
    "GC_content(seq)"
   ]
  },
  {
   "cell_type": "markdown",
   "metadata": {},
   "source": [
    "#### Read a multi fasta file and calculate GC content of each sequence"
   ]
  },
  {
   "cell_type": "code",
   "execution_count": 12,
   "metadata": {
    "collapsed": false
   },
   "outputs": [
    {
     "name": "stdout",
     "output_type": "stream",
     "text": [
      "seq1 : 50.77\n",
      "seq2 : 50.72\n",
      "seq3 : 56.94\n",
      "seq4 : 37.7\n",
      "seq5 : 49.09\n"
     ]
    }
   ],
   "source": [
    "my_file = open(\"multi_input.fasta\")\n",
    "seq = my_file.readlines()\n",
    "# initializing a python dictionary\n",
    "seq_dict = {}\n",
    "for line in seq:\n",
    "    line = line.rstrip()\n",
    "    if line[0]=='>':\n",
    "        # The header line \n",
    "        seq_id = line[1:] \n",
    "        seq_dict[seq_id] = ''\n",
    "    else:\n",
    "        # The sequence\n",
    "        seq_dict[seq_id] = seq_dict[seq_id] + line\n",
    "for key,value in sorted(seq_dict.iteritems()):\n",
    "    # Use GC_content function\n",
    "    gc_con=GC_content(value)\n",
    "    print key,\":\",gc_con"
   ]
  },
  {
   "cell_type": "markdown",
   "metadata": {},
   "source": [
    "##### THIS SEEMS TO WORK, BUT IT CAN BE DONE MUCH EASIER!"
   ]
  },
  {
   "cell_type": "markdown",
   "metadata": {},
   "source": [
    "Biopython is a set of open-source tools in python designed for numerous biological computations! \n",
    "\n",
    "For example, reading and writing of sequence files in various formats can be achieved easily using the `Bio.SeqIO` module.\n"
   ]
  },
  {
   "cell_type": "markdown",
   "metadata": {},
   "source": [
    "###### Reading the multi fasta file using biopython:"
   ]
  },
  {
   "cell_type": "code",
   "execution_count": 13,
   "metadata": {
    "collapsed": false
   },
   "outputs": [
    {
     "name": "stdout",
     "output_type": "stream",
     "text": [
      "seq1 : 50.77\n",
      "seq2 : 50.72\n",
      "seq3 : 56.94\n",
      "seq4 : 37.7\n",
      "seq5 : 49.09\n"
     ]
    }
   ],
   "source": [
    "from Bio import SeqIO\n",
    "fasta_sequences = SeqIO.parse(open(\"multi_input.fasta\"),'fasta')\n",
    "for fasta in fasta_sequences:\n",
    "        name = fasta.id # Header line\n",
    "        sequence =fasta.seq # The Sequence\n",
    "        print name,\":\",GC_content(sequence)"
   ]
  },
  {
   "cell_type": "markdown",
   "metadata": {},
   "source": [
    "##  Plotting the GC content distribution of an *E. coli* genome"
   ]
  },
  {
   "cell_type": "markdown",
   "metadata": {},
   "source": [
    "The GC content shows considerable variation not only between species but also within genomes.  However, the GC content within a bacterial genome shows relatively lower variation as compared to vertebrate genomes. \n",
    "\n",
    "In bacterial genomes, there is a significant difference in GC content between the origin and the terminus of replication.\n"
   ]
  },
  {
   "cell_type": "code",
   "execution_count": 14,
   "metadata": {
    "collapsed": false
   },
   "outputs": [
    {
     "data": {
      "image/png": "[encoded data removed]",
      "text/plain": [
       "<matplotlib.figure.Figure at 0x10870fed0>"
      ]
     },
     "metadata": {},
     "output_type": "display_data"
    }
   ],
   "source": [
    "from Bio import SeqIO\n",
    "import matplotlib.pyplot as plt\n",
    "import matplotlib.mlab as mlab\n",
    "% matplotlib inline\n",
    "fasta_sequences = SeqIO.parse(open(\"NC_000913_K12_MG1655.fasta\"),'fasta')\n",
    "for fasta in fasta_sequences:\n",
    "        name = fasta.id # Header line\n",
    "        ecoli_sequence =fasta.seq # Sequence\n",
    "        values=[]\n",
    "        for i in range(0, len(ecoli_sequence),100): #Calculating GC content for every 100 bp\n",
    "                s = ecoli_sequence[i: i + 100] \n",
    "                ecoli_gc= GC_content(s)\n",
    "                values.append(ecoli_gc)\n",
    "\n",
    "plt.hist(values,bins=50,histtype='stepfilled',alpha=0.5)\n",
    "plt.title(\"GC content distribution in Escherichia coli str. K-12 substr. MG1655\\n\", fontweight='bold')\n",
    "plt.xlabel(\"GC%\")\n",
    "plt.ylabel(\"Frequency\")\n",
    "plt.show()"
   ]
  },
  {
   "cell_type": "code",
   "execution_count": null,
   "metadata": {
    "collapsed": false
   },
   "outputs": [],
   "source": []
  }
 ],
 "metadata": {
  "kernelspec": {
   "display_name": "Python 2",
   "language": "python",
   "name": "python2"
  },
  "language_info": {
   "codemirror_mode": {
    "name": "ipython",
    "version": 2
   },
   "file_extension": ".py",
   "mimetype": "text/x-python",
   "name": "python",
   "nbconvert_exporter": "python",
   "pygments_lexer": "ipython2",
   "version": "2.7.9"
  }
 },
 "nbformat": 4,
 "nbformat_minor": 0
}
